{
 "cells": [
  {
   "cell_type": "markdown",
   "id": "ceb8e7d7",
   "metadata": {
    "papermill": {
     "duration": 0.002378,
     "end_time": "2022-11-18T20:24:07.404343",
     "exception": false,
     "start_time": "2022-11-18T20:24:07.401965",
     "status": "completed"
    },
    "tags": []
   },
   "source": [
    "**Audio to Spectrogram**"
   ]
  },
  {
   "cell_type": "code",
   "execution_count": 1,
   "id": "a768fdbd",
   "metadata": {
    "execution": {
     "iopub.execute_input": "2022-11-18T20:24:07.409401Z",
     "iopub.status.busy": "2022-11-18T20:24:07.408854Z",
     "iopub.status.idle": "2022-11-18T20:24:20.587656Z",
     "shell.execute_reply": "2022-11-18T20:24:20.586341Z"
    },
    "papermill": {
     "duration": 13.184133,
     "end_time": "2022-11-18T20:24:20.590139",
     "exception": false,
     "start_time": "2022-11-18T20:24:07.406006",
     "status": "completed"
    },
    "tags": []
   },
   "outputs": [
    {
     "name": "stdout",
     "output_type": "stream",
     "text": [
      "Collecting spectrust\r\n",
      "  Downloading spectrust-0.1.1-py3-none-any.whl (2.3 MB)\r\n",
      "\u001b[2K     \u001b[90m━━━━━━━━━━━━━━━━━━━━━━━━━━━━━━━━━━━━━━━━\u001b[0m \u001b[32m2.3/2.3 MB\u001b[0m \u001b[31m13.8 MB/s\u001b[0m eta \u001b[36m0:00:00\u001b[0m\r\n",
      "\u001b[?25hInstalling collected packages: spectrust\r\n",
      "Successfully installed spectrust-0.1.1\r\n",
      "\u001b[33mWARNING: Running pip as the 'root' user can result in broken permissions and conflicting behaviour with the system package manager. It is recommended to use a virtual environment instead: https://pip.pypa.io/warnings/venv\u001b[0m\u001b[33m\r\n",
      "\u001b[0mNote: you may need to restart the kernel to use updated packages.\n"
     ]
    }
   ],
   "source": [
    "pip install spectrust"
   ]
  },
  {
   "cell_type": "code",
   "execution_count": 2,
   "id": "559871d2",
   "metadata": {
    "execution": {
     "iopub.execute_input": "2022-11-18T20:24:20.596947Z",
     "iopub.status.busy": "2022-11-18T20:24:20.596633Z",
     "iopub.status.idle": "2022-11-18T21:24:18.948736Z",
     "shell.execute_reply": "2022-11-18T21:24:18.947613Z"
    },
    "papermill": {
     "duration": 3598.358875,
     "end_time": "2022-11-18T21:24:18.951552",
     "exception": false,
     "start_time": "2022-11-18T20:24:20.592677",
     "status": "completed"
    },
    "tags": []
   },
   "outputs": [],
   "source": [
    "import spectrust\n",
    "import re\n",
    "import os\n",
    "import pandas as pd\n",
    "\n",
    "os.mkdir('./raw_data_img/')\n",
    "os.mkdir('./raw_data_img/0')\n",
    "os.mkdir('./raw_data_img/1')\n",
    "\n",
    "label_data = pd.read_csv('../input/audio-data-label/Data_label.csv', encoding=\"UTF-8\")\n",
    "participant = list(label_data[\"Participant_ID\"])\n",
    "depressed = list(label_data[\"Depressed\"])\n",
    "label_data = {participant[i]:depressed[i] for i in range(len(participant))}\n",
    "\n",
    "spectogram = spectrust.Spectrogram(width=512, height=512) #spectrograms of size 512X512, RGB\n",
    "\n",
    "for audio_file in os.listdir(\"../input/model1-speaker-diarization/audio_data_seg/\"):\n",
    "    if (int(audio_file[-5:-4]))==1:\n",
    "        spectogram.generate('../input/model1-speaker-diarization/audio_data_seg/'+audio_file,'./raw_data_img/'+str(label_data[int(audio_file[:3])])+'/'+re.sub('.wav','',audio_file)+'.jpg')\n"
   ]
  }
 ],
 "metadata": {
  "kernelspec": {
   "display_name": "Python 3",
   "language": "python",
   "name": "python3"
  },
  "language_info": {
   "codemirror_mode": {
    "name": "ipython",
    "version": 3
   },
   "file_extension": ".py",
   "mimetype": "text/x-python",
   "name": "python",
   "nbconvert_exporter": "python",
   "pygments_lexer": "ipython3",
   "version": "3.7.12"
  },
  "papermill": {
   "default_parameters": {},
   "duration": 3623.063663,
   "end_time": "2022-11-18T21:24:19.579214",
   "environment_variables": {},
   "exception": null,
   "input_path": "__notebook__.ipynb",
   "output_path": "__notebook__.ipynb",
   "parameters": {},
   "start_time": "2022-11-18T20:23:56.515551",
   "version": "2.3.4"
  }
 },
 "nbformat": 4,
 "nbformat_minor": 5
}
