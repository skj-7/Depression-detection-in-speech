{
 "cells": [
  {
   "cell_type": "markdown",
   "id": "9a712ebc",
   "metadata": {
    "papermill": {
     "duration": 0.00795,
     "end_time": "2022-11-20T18:44:04.878421",
     "exception": false,
     "start_time": "2022-11-20T18:44:04.870471",
     "status": "completed"
    },
    "tags": []
   },
   "source": [
    "# **Convolutional Neural Network**\n",
    "**Preprocessing images**"
   ]
  },
  {
   "cell_type": "code",
   "execution_count": 1,
   "id": "c48caf71",
   "metadata": {
    "execution": {
     "iopub.execute_input": "2022-11-20T18:44:04.891688Z",
     "iopub.status.busy": "2022-11-20T18:44:04.891058Z",
     "iopub.status.idle": "2022-11-20T18:44:50.656083Z",
     "shell.execute_reply": "2022-11-20T18:44:50.654943Z"
    },
    "papermill": {
     "duration": 45.774008,
     "end_time": "2022-11-20T18:44:50.658791",
     "exception": false,
     "start_time": "2022-11-20T18:44:04.884783",
     "status": "completed"
    },
    "tags": []
   },
   "outputs": [
    {
     "name": "stdout",
     "output_type": "stream",
     "text": [
      "Requirement already satisfied: tensorflow in /opt/conda/lib/python3.7/site-packages (2.6.4)\r\n",
      "Requirement already satisfied: keras<2.7,>=2.6.0 in /opt/conda/lib/python3.7/site-packages (from tensorflow) (2.6.0)\r\n",
      "Requirement already satisfied: grpcio<2.0,>=1.37.0 in /opt/conda/lib/python3.7/site-packages (from tensorflow) (1.43.0)\r\n",
      "Requirement already satisfied: flatbuffers~=1.12.0 in /opt/conda/lib/python3.7/site-packages (from tensorflow) (1.12)\r\n",
      "Requirement already satisfied: six~=1.15.0 in /opt/conda/lib/python3.7/site-packages (from tensorflow) (1.15.0)\r\n",
      "Requirement already satisfied: wheel~=0.35 in /opt/conda/lib/python3.7/site-packages (from tensorflow) (0.37.1)\r\n",
      "Requirement already satisfied: astunparse~=1.6.3 in /opt/conda/lib/python3.7/site-packages (from tensorflow) (1.6.3)\r\n",
      "Collecting h5py~=3.1.0\r\n",
      "  Downloading h5py-3.1.0-cp37-cp37m-manylinux1_x86_64.whl (4.0 MB)\r\n",
      "\u001b[2K     \u001b[90m━━━━━━━━━━━━━━━━━━━━━━━━━━━━━━━━━━━━━━━━\u001b[0m \u001b[32m4.0/4.0 MB\u001b[0m \u001b[31m21.1 MB/s\u001b[0m eta \u001b[36m0:00:00\u001b[0m\r\n",
      "\u001b[?25hRequirement already satisfied: absl-py~=0.10 in /opt/conda/lib/python3.7/site-packages (from tensorflow) (0.15.0)\r\n",
      "Collecting tensorboard<2.7,>=2.6.0\r\n",
      "  Downloading tensorboard-2.6.0-py3-none-any.whl (5.6 MB)\r\n",
      "\u001b[2K     \u001b[90m━━━━━━━━━━━━━━━━━━━━━━━━━━━━━━━━━━━━━━━━\u001b[0m \u001b[32m5.6/5.6 MB\u001b[0m \u001b[31m66.9 MB/s\u001b[0m eta \u001b[36m0:00:00\u001b[0m\r\n",
      "\u001b[?25hRequirement already satisfied: google-pasta~=0.2 in /opt/conda/lib/python3.7/site-packages (from tensorflow) (0.2.0)\r\n",
      "Requirement already satisfied: clang~=5.0 in /opt/conda/lib/python3.7/site-packages (from tensorflow) (5.0)\r\n",
      "Collecting typing-extensions<3.11,>=3.7\r\n",
      "  Downloading typing_extensions-3.10.0.2-py3-none-any.whl (26 kB)\r\n",
      "Requirement already satisfied: protobuf>=3.9.2 in /opt/conda/lib/python3.7/site-packages (from tensorflow) (3.19.4)\r\n",
      "Requirement already satisfied: termcolor~=1.1.0 in /opt/conda/lib/python3.7/site-packages (from tensorflow) (1.1.0)\r\n",
      "Requirement already satisfied: tensorflow-estimator<2.7,>=2.6.0 in /opt/conda/lib/python3.7/site-packages (from tensorflow) (2.6.0)\r\n",
      "Requirement already satisfied: opt-einsum~=3.3.0 in /opt/conda/lib/python3.7/site-packages (from tensorflow) (3.3.0)\r\n",
      "Requirement already satisfied: gast==0.4.0 in /opt/conda/lib/python3.7/site-packages (from tensorflow) (0.4.0)\r\n",
      "Requirement already satisfied: keras-preprocessing~=1.1.2 in /opt/conda/lib/python3.7/site-packages (from tensorflow) (1.1.2)\r\n",
      "Requirement already satisfied: wrapt~=1.12.1 in /opt/conda/lib/python3.7/site-packages (from tensorflow) (1.12.1)\r\n",
      "Collecting numpy~=1.19.2\r\n",
      "  Downloading numpy-1.19.5-cp37-cp37m-manylinux2010_x86_64.whl (14.8 MB)\r\n",
      "\u001b[2K     \u001b[90m━━━━━━━━━━━━━━━━━━━━━━━━━━━━━━━━━━━━━━━━\u001b[0m \u001b[32m14.8/14.8 MB\u001b[0m \u001b[31m58.2 MB/s\u001b[0m eta \u001b[36m0:00:00\u001b[0m\r\n",
      "\u001b[?25hRequirement already satisfied: cached-property in /opt/conda/lib/python3.7/site-packages (from h5py~=3.1.0->tensorflow) (1.5.2)\r\n",
      "Requirement already satisfied: tensorboard-plugin-wit>=1.6.0 in /opt/conda/lib/python3.7/site-packages (from tensorboard<2.7,>=2.6.0->tensorflow) (1.8.1)\r\n",
      "Requirement already satisfied: google-auth<2,>=1.6.3 in /opt/conda/lib/python3.7/site-packages (from tensorboard<2.7,>=2.6.0->tensorflow) (1.35.0)\r\n",
      "Requirement already satisfied: requests<3,>=2.21.0 in /opt/conda/lib/python3.7/site-packages (from tensorboard<2.7,>=2.6.0->tensorflow) (2.28.1)\r\n",
      "Requirement already satisfied: tensorboard-data-server<0.7.0,>=0.6.0 in /opt/conda/lib/python3.7/site-packages (from tensorboard<2.7,>=2.6.0->tensorflow) (0.6.1)\r\n",
      "Requirement already satisfied: markdown>=2.6.8 in /opt/conda/lib/python3.7/site-packages (from tensorboard<2.7,>=2.6.0->tensorflow) (3.3.7)\r\n",
      "Requirement already satisfied: google-auth-oauthlib<0.5,>=0.4.1 in /opt/conda/lib/python3.7/site-packages (from tensorboard<2.7,>=2.6.0->tensorflow) (0.4.6)\r\n",
      "Requirement already satisfied: setuptools>=41.0.0 in /opt/conda/lib/python3.7/site-packages (from tensorboard<2.7,>=2.6.0->tensorflow) (59.8.0)\r\n",
      "Requirement already satisfied: werkzeug>=0.11.15 in /opt/conda/lib/python3.7/site-packages (from tensorboard<2.7,>=2.6.0->tensorflow) (2.2.2)\r\n",
      "Requirement already satisfied: rsa<5,>=3.1.4 in /opt/conda/lib/python3.7/site-packages (from google-auth<2,>=1.6.3->tensorboard<2.7,>=2.6.0->tensorflow) (4.8)\r\n",
      "Requirement already satisfied: pyasn1-modules>=0.2.1 in /opt/conda/lib/python3.7/site-packages (from google-auth<2,>=1.6.3->tensorboard<2.7,>=2.6.0->tensorflow) (0.2.7)\r\n",
      "Requirement already satisfied: cachetools<5.0,>=2.0.0 in /opt/conda/lib/python3.7/site-packages (from google-auth<2,>=1.6.3->tensorboard<2.7,>=2.6.0->tensorflow) (4.2.4)\r\n",
      "Requirement already satisfied: requests-oauthlib>=0.7.0 in /opt/conda/lib/python3.7/site-packages (from google-auth-oauthlib<0.5,>=0.4.1->tensorboard<2.7,>=2.6.0->tensorflow) (1.3.1)\r\n",
      "Requirement already satisfied: importlib-metadata>=4.4 in /opt/conda/lib/python3.7/site-packages (from markdown>=2.6.8->tensorboard<2.7,>=2.6.0->tensorflow) (4.13.0)\r\n",
      "Requirement already satisfied: urllib3<1.27,>=1.21.1 in /opt/conda/lib/python3.7/site-packages (from requests<3,>=2.21.0->tensorboard<2.7,>=2.6.0->tensorflow) (1.26.12)\r\n",
      "Requirement already satisfied: idna<4,>=2.5 in /opt/conda/lib/python3.7/site-packages (from requests<3,>=2.21.0->tensorboard<2.7,>=2.6.0->tensorflow) (3.3)\r\n",
      "Requirement already satisfied: certifi>=2017.4.17 in /opt/conda/lib/python3.7/site-packages (from requests<3,>=2.21.0->tensorboard<2.7,>=2.6.0->tensorflow) (2022.9.24)\r\n",
      "Requirement already satisfied: charset-normalizer<3,>=2 in /opt/conda/lib/python3.7/site-packages (from requests<3,>=2.21.0->tensorboard<2.7,>=2.6.0->tensorflow) (2.1.0)\r\n",
      "Requirement already satisfied: MarkupSafe>=2.1.1 in /opt/conda/lib/python3.7/site-packages (from werkzeug>=0.11.15->tensorboard<2.7,>=2.6.0->tensorflow) (2.1.1)\r\n",
      "Requirement already satisfied: zipp>=0.5 in /opt/conda/lib/python3.7/site-packages (from importlib-metadata>=4.4->markdown>=2.6.8->tensorboard<2.7,>=2.6.0->tensorflow) (3.8.0)\r\n",
      "Requirement already satisfied: pyasn1<0.5.0,>=0.4.6 in /opt/conda/lib/python3.7/site-packages (from pyasn1-modules>=0.2.1->google-auth<2,>=1.6.3->tensorboard<2.7,>=2.6.0->tensorflow) (0.4.8)\r\n",
      "Requirement already satisfied: oauthlib>=3.0.0 in /opt/conda/lib/python3.7/site-packages (from requests-oauthlib>=0.7.0->google-auth-oauthlib<0.5,>=0.4.1->tensorboard<2.7,>=2.6.0->tensorflow) (3.2.0)\r\n",
      "Installing collected packages: typing-extensions, numpy, h5py, tensorboard\r\n",
      "  Attempting uninstall: typing-extensions\r\n",
      "    Found existing installation: typing_extensions 4.1.1\r\n",
      "    Uninstalling typing_extensions-4.1.1:\r\n",
      "      Successfully uninstalled typing_extensions-4.1.1\r\n",
      "  Attempting uninstall: numpy\r\n",
      "    Found existing installation: numpy 1.21.6\r\n",
      "    Uninstalling numpy-1.21.6:\r\n",
      "      Successfully uninstalled numpy-1.21.6\r\n",
      "  Attempting uninstall: h5py\r\n",
      "    Found existing installation: h5py 3.7.0\r\n",
      "    Uninstalling h5py-3.7.0:\r\n",
      "      Successfully uninstalled h5py-3.7.0\r\n",
      "  Attempting uninstall: tensorboard\r\n",
      "    Found existing installation: tensorboard 2.10.1\r\n",
      "    Uninstalling tensorboard-2.10.1:\r\n",
      "      Successfully uninstalled tensorboard-2.10.1\r\n",
      "\u001b[31mERROR: pip's dependency resolver does not currently take into account all the packages that are installed. This behaviour is the source of the following dependency conflicts.\r\n",
      "tensorflow-io 0.21.0 requires tensorflow-io-gcs-filesystem==0.21.0, which is not installed.\r\n",
      "dask-cudf 21.10.1 requires cupy-cuda114, which is not installed.\r\n",
      "beatrix-jupyterlab 3.1.7 requires google-cloud-bigquery-storage, which is not installed.\r\n",
      "xarray-einstats 0.2.2 requires numpy>=1.21, but you have numpy 1.19.5 which is incompatible.\r\n",
      "tfx-bsl 1.9.0 requires tensorflow!=2.0.*,!=2.1.*,!=2.2.*,!=2.3.*,!=2.4.*,!=2.5.*,!=2.6.*,!=2.7.*,!=2.8.*,<3,>=1.15.5, but you have tensorflow 2.6.4 which is incompatible.\r\n",
      "tensorflow-transform 1.9.0 requires tensorflow!=2.0.*,!=2.1.*,!=2.2.*,!=2.3.*,!=2.4.*,!=2.5.*,!=2.6.*,!=2.7.*,!=2.8.*,<2.10,>=1.15.5, but you have tensorflow 2.6.4 which is incompatible.\r\n",
      "tensorflow-serving-api 2.9.0 requires tensorflow<3,>=2.9.0, but you have tensorflow 2.6.4 which is incompatible.\r\n",
      "rich 12.6.0 requires typing-extensions<5.0,>=4.0.0; python_version < \"3.9\", but you have typing-extensions 3.10.0.2 which is incompatible.\r\n",
      "pytorch-lightning 1.7.7 requires tensorboard>=2.9.1, but you have tensorboard 2.6.0 which is incompatible.\r\n",
      "pytorch-lightning 1.7.7 requires typing-extensions>=4.0.0, but you have typing-extensions 3.10.0.2 which is incompatible.\r\n",
      "pytools 2022.1.12 requires typing-extensions>=4.0; python_version < \"3.11\", but you have typing-extensions 3.10.0.2 which is incompatible.\r\n",
      "pdpbox 0.2.1 requires matplotlib==3.1.1, but you have matplotlib 3.5.3 which is incompatible.\r\n",
      "pandas-profiling 3.1.0 requires markupsafe~=2.0.1, but you have markupsafe 2.1.1 which is incompatible.\r\n",
      "nnabla 1.31.0 requires numpy>=1.20.0, but you have numpy 1.19.5 which is incompatible.\r\n",
      "jaxlib 0.3.22+cuda11.cudnn805 requires numpy>=1.20, but you have numpy 1.19.5 which is incompatible.\r\n",
      "jax 0.3.23 requires numpy>=1.20, but you have numpy 1.19.5 which is incompatible.\r\n",
      "flax 0.6.1 requires typing-extensions>=4.1.1, but you have typing-extensions 3.10.0.2 which is incompatible.\r\n",
      "flake8 4.0.1 requires importlib-metadata<4.3; python_version < \"3.8\", but you have importlib-metadata 4.13.0 which is incompatible.\r\n",
      "featuretools 1.11.1 requires numpy>=1.21.0, but you have numpy 1.19.5 which is incompatible.\r\n",
      "dask-cudf 21.10.1 requires dask==2021.09.1, but you have dask 2022.2.0 which is incompatible.\r\n",
      "dask-cudf 21.10.1 requires distributed==2021.09.1, but you have distributed 2022.2.0 which is incompatible.\r\n",
      "cmdstanpy 1.0.7 requires numpy>=1.21, but you have numpy 1.19.5 which is incompatible.\r\n",
      "apache-beam 2.40.0 requires dill<0.3.2,>=0.3.1.1, but you have dill 0.3.5.1 which is incompatible.\r\n",
      "allennlp 2.10.1 requires h5py>=3.6.0, but you have h5py 3.1.0 which is incompatible.\r\n",
      "allennlp 2.10.1 requires numpy>=1.21.4, but you have numpy 1.19.5 which is incompatible.\r\n",
      "aioitertools 0.11.0 requires typing_extensions>=4.0; python_version < \"3.10\", but you have typing-extensions 3.10.0.2 which is incompatible.\r\n",
      "aiobotocore 2.4.0 requires botocore<1.27.60,>=1.27.59, but you have botocore 1.27.93 which is incompatible.\u001b[0m\u001b[31m\r\n",
      "\u001b[0mSuccessfully installed h5py-3.1.0 numpy-1.19.5 tensorboard-2.6.0 typing-extensions-3.10.0.2\r\n",
      "\u001b[33mWARNING: Running pip as the 'root' user can result in broken permissions and conflicting behaviour with the system package manager. It is recommended to use a virtual environment instead: https://pip.pypa.io/warnings/venv\u001b[0m\u001b[33m\r\n",
      "\u001b[0mNote: you may need to restart the kernel to use updated packages.\n"
     ]
    }
   ],
   "source": [
    "pip install tensorflow"
   ]
  },
  {
   "cell_type": "code",
   "execution_count": 2,
   "id": "946b40b2",
   "metadata": {
    "execution": {
     "iopub.execute_input": "2022-11-20T18:44:50.669306Z",
     "iopub.status.busy": "2022-11-20T18:44:50.668961Z",
     "iopub.status.idle": "2022-11-20T18:45:05.006855Z",
     "shell.execute_reply": "2022-11-20T18:45:05.005051Z"
    },
    "papermill": {
     "duration": 14.346033,
     "end_time": "2022-11-20T18:45:05.009362",
     "exception": false,
     "start_time": "2022-11-20T18:44:50.663329",
     "status": "completed"
    },
    "tags": []
   },
   "outputs": [
    {
     "name": "stdout",
     "output_type": "stream",
     "text": [
      "Found 4200 images belonging to 2 classes.\n",
      "Found 600 images belonging to 2 classes.\n",
      "Found 1200 images belonging to 2 classes.\n"
     ]
    }
   ],
   "source": [
    "import tensorflow as tf\n",
    "from tensorflow.keras import layers, models,preprocessing,regularizers,callbacks\n",
    "from matplotlib import pyplot as plt\n",
    "\n",
    "data_generator = preprocessing.image.ImageDataGenerator(rescale=1/255)  # normalisation\n",
    "train_generator = data_generator.flow_from_directory('../input/model1-splitfolders/final_image_data/train',batch_size=10,target_size=(512,512),class_mode='binary')\n",
    "val_generator = data_generator.flow_from_directory('../input/model1-splitfolders/final_image_data/val',color_mode='rgb',target_size=(512,512),class_mode='binary')\n",
    "test_generator = data_generator.flow_from_directory('../input/model1-splitfolders/final_image_data/test',batch_size=10,target_size=(512,512),class_mode='binary')\n"
   ]
  },
  {
   "cell_type": "markdown",
   "id": "6e855689",
   "metadata": {
    "papermill": {
     "duration": 0.005083,
     "end_time": "2022-11-20T18:45:05.019458",
     "exception": false,
     "start_time": "2022-11-20T18:45:05.014375",
     "status": "completed"
    },
    "tags": []
   },
   "source": [
    "**Model**"
   ]
  },
  {
   "cell_type": "code",
   "execution_count": 3,
   "id": "f8815734",
   "metadata": {
    "execution": {
     "iopub.execute_input": "2022-11-20T18:45:05.030574Z",
     "iopub.status.busy": "2022-11-20T18:45:05.030001Z",
     "iopub.status.idle": "2022-11-20T18:45:10.644978Z",
     "shell.execute_reply": "2022-11-20T18:45:10.644009Z"
    },
    "papermill": {
     "duration": 5.622894,
     "end_time": "2022-11-20T18:45:10.647084",
     "exception": false,
     "start_time": "2022-11-20T18:45:05.024190",
     "status": "completed"
    },
    "tags": []
   },
   "outputs": [
    {
     "name": "stderr",
     "output_type": "stream",
     "text": [
      "2022-11-20 18:45:05.187660: I tensorflow/stream_executor/cuda/cuda_gpu_executor.cc:937] successful NUMA node read from SysFS had negative value (-1), but there must be at least one NUMA node, so returning NUMA node zero\n",
      "2022-11-20 18:45:05.188742: I tensorflow/stream_executor/cuda/cuda_gpu_executor.cc:937] successful NUMA node read from SysFS had negative value (-1), but there must be at least one NUMA node, so returning NUMA node zero\n",
      "2022-11-20 18:45:05.449651: I tensorflow/stream_executor/cuda/cuda_gpu_executor.cc:937] successful NUMA node read from SysFS had negative value (-1), but there must be at least one NUMA node, so returning NUMA node zero\n",
      "2022-11-20 18:45:05.450651: I tensorflow/stream_executor/cuda/cuda_gpu_executor.cc:937] successful NUMA node read from SysFS had negative value (-1), but there must be at least one NUMA node, so returning NUMA node zero\n",
      "2022-11-20 18:45:05.451676: I tensorflow/stream_executor/cuda/cuda_gpu_executor.cc:937] successful NUMA node read from SysFS had negative value (-1), but there must be at least one NUMA node, so returning NUMA node zero\n",
      "2022-11-20 18:45:05.452489: I tensorflow/stream_executor/cuda/cuda_gpu_executor.cc:937] successful NUMA node read from SysFS had negative value (-1), but there must be at least one NUMA node, so returning NUMA node zero\n",
      "2022-11-20 18:45:05.453966: I tensorflow/core/platform/cpu_feature_guard.cc:142] This TensorFlow binary is optimized with oneAPI Deep Neural Network Library (oneDNN) to use the following CPU instructions in performance-critical operations:  AVX2 AVX512F FMA\n",
      "To enable them in other operations, rebuild TensorFlow with the appropriate compiler flags.\n",
      "2022-11-20 18:45:05.709607: I tensorflow/stream_executor/cuda/cuda_gpu_executor.cc:937] successful NUMA node read from SysFS had negative value (-1), but there must be at least one NUMA node, so returning NUMA node zero\n",
      "2022-11-20 18:45:05.710462: I tensorflow/stream_executor/cuda/cuda_gpu_executor.cc:937] successful NUMA node read from SysFS had negative value (-1), but there must be at least one NUMA node, so returning NUMA node zero\n",
      "2022-11-20 18:45:05.711244: I tensorflow/stream_executor/cuda/cuda_gpu_executor.cc:937] successful NUMA node read from SysFS had negative value (-1), but there must be at least one NUMA node, so returning NUMA node zero\n",
      "2022-11-20 18:45:05.711927: I tensorflow/stream_executor/cuda/cuda_gpu_executor.cc:937] successful NUMA node read from SysFS had negative value (-1), but there must be at least one NUMA node, so returning NUMA node zero\n",
      "2022-11-20 18:45:05.712595: I tensorflow/stream_executor/cuda/cuda_gpu_executor.cc:937] successful NUMA node read from SysFS had negative value (-1), but there must be at least one NUMA node, so returning NUMA node zero\n",
      "2022-11-20 18:45:05.713253: I tensorflow/stream_executor/cuda/cuda_gpu_executor.cc:937] successful NUMA node read from SysFS had negative value (-1), but there must be at least one NUMA node, so returning NUMA node zero\n",
      "2022-11-20 18:45:10.044321: I tensorflow/stream_executor/cuda/cuda_gpu_executor.cc:937] successful NUMA node read from SysFS had negative value (-1), but there must be at least one NUMA node, so returning NUMA node zero\n",
      "2022-11-20 18:45:10.045227: I tensorflow/stream_executor/cuda/cuda_gpu_executor.cc:937] successful NUMA node read from SysFS had negative value (-1), but there must be at least one NUMA node, so returning NUMA node zero\n",
      "2022-11-20 18:45:10.045958: I tensorflow/stream_executor/cuda/cuda_gpu_executor.cc:937] successful NUMA node read from SysFS had negative value (-1), but there must be at least one NUMA node, so returning NUMA node zero\n",
      "2022-11-20 18:45:10.046669: I tensorflow/stream_executor/cuda/cuda_gpu_executor.cc:937] successful NUMA node read from SysFS had negative value (-1), but there must be at least one NUMA node, so returning NUMA node zero\n",
      "2022-11-20 18:45:10.047395: I tensorflow/stream_executor/cuda/cuda_gpu_executor.cc:937] successful NUMA node read from SysFS had negative value (-1), but there must be at least one NUMA node, so returning NUMA node zero\n",
      "2022-11-20 18:45:10.048098: I tensorflow/core/common_runtime/gpu/gpu_device.cc:1510] Created device /job:localhost/replica:0/task:0/device:GPU:0 with 13789 MB memory:  -> device: 0, name: Tesla T4, pci bus id: 0000:00:04.0, compute capability: 7.5\n",
      "2022-11-20 18:45:10.052699: I tensorflow/stream_executor/cuda/cuda_gpu_executor.cc:937] successful NUMA node read from SysFS had negative value (-1), but there must be at least one NUMA node, so returning NUMA node zero\n",
      "2022-11-20 18:45:10.053418: I tensorflow/core/common_runtime/gpu/gpu_device.cc:1510] Created device /job:localhost/replica:0/task:0/device:GPU:1 with 13789 MB memory:  -> device: 1, name: Tesla T4, pci bus id: 0000:00:05.0, compute capability: 7.5\n"
     ]
    }
   ],
   "source": [
    "model = models.Sequential()\n",
    "model.add(layers.Conv2D(32, (5,5), activation='relu', input_shape=(512, 512, 3)))\n",
    "model.add(layers.MaxPooling2D((4, 4), strides=4))\n",
    "model.add(layers.Conv2D(32, (3, 3), activation='relu',kernel_regularizer=regularizers.l2(0.01)))\n",
    "model.add(layers.MaxPooling2D((1, 3), strides=(1,3)))\n",
    "model.add(layers.Flatten())\n",
    "model.add(layers.Dense(128, activation='linear',kernel_regularizer=regularizers.l2(0.01)))\n",
    "model.add(layers.Dropout(0.6))\n",
    "model.add(layers.Dense(256, activation='relu',kernel_regularizer=regularizers.l2(0.0001)))\n",
    "model.add(layers.Dropout(0.8))\n",
    "model.add(layers.Dense(1, activation='sigmoid'))\n",
    "model.compile(optimizer=tf.keras.optimizers.SGD(),loss=tf.keras.losses.BinaryCrossentropy(),metrics=['accuracy',tf.keras.metrics.TrueNegatives(),tf.keras.metrics.TruePositives(),tf.keras.metrics.FalseNegatives(),tf.keras.metrics.FalsePositives()])"
   ]
  },
  {
   "cell_type": "markdown",
   "id": "a4bb3b41",
   "metadata": {
    "papermill": {
     "duration": 0.004424,
     "end_time": "2022-11-20T18:45:10.656350",
     "exception": false,
     "start_time": "2022-11-20T18:45:10.651926",
     "status": "completed"
    },
    "tags": []
   },
   "source": [
    "**Fitting**"
   ]
  },
  {
   "cell_type": "code",
   "execution_count": 4,
   "id": "d1829644",
   "metadata": {
    "execution": {
     "iopub.execute_input": "2022-11-20T18:45:10.667481Z",
     "iopub.status.busy": "2022-11-20T18:45:10.666543Z",
     "iopub.status.idle": "2022-11-20T19:10:46.609976Z",
     "shell.execute_reply": "2022-11-20T19:10:46.609066Z"
    },
    "papermill": {
     "duration": 1535.950963,
     "end_time": "2022-11-20T19:10:46.612096",
     "exception": false,
     "start_time": "2022-11-20T18:45:10.661133",
     "status": "completed"
    },
    "tags": []
   },
   "outputs": [
    {
     "name": "stderr",
     "output_type": "stream",
     "text": [
      "2022-11-20 18:45:10.979814: I tensorflow/compiler/mlir/mlir_graph_optimization_pass.cc:185] None of the MLIR Optimization Passes are enabled (registered 2)\n"
     ]
    },
    {
     "name": "stdout",
     "output_type": "stream",
     "text": [
      "Epoch 1/25\n"
     ]
    },
    {
     "name": "stderr",
     "output_type": "stream",
     "text": [
      "2022-11-20 18:45:14.152222: I tensorflow/stream_executor/cuda/cuda_dnn.cc:369] Loaded cuDNN version 8005\n"
     ]
    },
    {
     "name": "stdout",
     "output_type": "stream",
     "text": [
      "420/420 [==============================] - 97s 198ms/step - loss: 3.3689 - accuracy: 0.4840 - true_negatives: 872.0000 - true_positives: 1161.0000 - false_negatives: 939.0000 - false_positives: 1228.0000 - val_loss: 3.1439 - val_accuracy: 0.5300 - val_true_negatives: 218.0000 - val_true_positives: 100.0000 - val_false_negatives: 200.0000 - val_false_positives: 82.0000\n",
      "Epoch 2/25\n",
      "420/420 [==============================] - 53s 127ms/step - loss: 2.9516 - accuracy: 0.5157 - true_negatives: 1273.0000 - true_positives: 893.0000 - false_negatives: 1207.0000 - false_positives: 827.0000 - val_loss: 2.7674 - val_accuracy: 0.5583 - val_true_negatives: 63.0000 - val_true_positives: 272.0000 - val_false_negatives: 28.0000 - val_false_positives: 237.0000\n",
      "Epoch 3/25\n",
      "420/420 [==============================] - 53s 126ms/step - loss: 2.6039 - accuracy: 0.5195 - true_negatives: 1023.0000 - true_positives: 1159.0000 - false_negatives: 941.0000 - false_positives: 1077.0000 - val_loss: 2.4493 - val_accuracy: 0.5017 - val_true_negatives: 300.0000 - val_true_positives: 1.0000 - val_false_negatives: 299.0000 - val_false_positives: 0.0000e+00\n",
      "Epoch 4/25\n",
      "420/420 [==============================] - 54s 129ms/step - loss: 2.3111 - accuracy: 0.5252 - true_negatives: 1222.0000 - true_positives: 984.0000 - false_negatives: 1116.0000 - false_positives: 878.0000 - val_loss: 2.1776 - val_accuracy: 0.5500 - val_true_negatives: 79.0000 - val_true_positives: 251.0000 - val_false_negatives: 49.0000 - val_false_positives: 221.0000\n",
      "Epoch 5/25\n",
      "420/420 [==============================] - 54s 127ms/step - loss: 2.0660 - accuracy: 0.5150 - true_negatives: 744.0000 - true_positives: 1419.0000 - false_negatives: 681.0000 - false_positives: 1356.0000 - val_loss: 1.9504 - val_accuracy: 0.5583 - val_true_negatives: 120.0000 - val_true_positives: 215.0000 - val_false_negatives: 85.0000 - val_false_positives: 180.0000\n",
      "Epoch 6/25\n",
      "420/420 [==============================] - 57s 134ms/step - loss: 1.8546 - accuracy: 0.5276 - true_negatives: 975.0000 - true_positives: 1241.0000 - false_negatives: 859.0000 - false_positives: 1125.0000 - val_loss: 1.7581 - val_accuracy: 0.5450 - val_true_negatives: 73.0000 - val_true_positives: 254.0000 - val_false_negatives: 46.0000 - val_false_positives: 227.0000\n",
      "Epoch 7/25\n",
      "420/420 [==============================] - 53s 125ms/step - loss: 1.6752 - accuracy: 0.5431 - true_negatives: 1058.0000 - true_positives: 1223.0000 - false_negatives: 877.0000 - false_positives: 1042.0000 - val_loss: 1.6018 - val_accuracy: 0.5400 - val_true_negatives: 47.0000 - val_true_positives: 277.0000 - val_false_negatives: 23.0000 - val_false_positives: 253.0000\n",
      "Epoch 8/25\n",
      "420/420 [==============================] - 52s 124ms/step - loss: 1.5275 - accuracy: 0.5471 - true_negatives: 991.0000 - true_positives: 1307.0000 - false_negatives: 793.0000 - false_positives: 1109.0000 - val_loss: 1.4612 - val_accuracy: 0.5783 - val_true_negatives: 134.0000 - val_true_positives: 213.0000 - val_false_negatives: 87.0000 - val_false_positives: 166.0000\n",
      "Epoch 9/25\n",
      "420/420 [==============================] - 52s 125ms/step - loss: 1.3996 - accuracy: 0.5571 - true_negatives: 1081.0000 - true_positives: 1259.0000 - false_negatives: 841.0000 - false_positives: 1019.0000 - val_loss: 1.3427 - val_accuracy: 0.5833 - val_true_negatives: 133.0000 - val_true_positives: 217.0000 - val_false_negatives: 83.0000 - val_false_positives: 167.0000\n",
      "Epoch 10/25\n",
      "420/420 [==============================] - 52s 123ms/step - loss: 1.2921 - accuracy: 0.5726 - true_negatives: 1319.0000 - true_positives: 1086.0000 - false_negatives: 1014.0000 - false_positives: 781.0000 - val_loss: 1.2428 - val_accuracy: 0.5883 - val_true_negatives: 136.0000 - val_true_positives: 217.0000 - val_false_negatives: 83.0000 - val_false_positives: 164.0000\n",
      "Epoch 11/25\n",
      "420/420 [==============================] - 52s 123ms/step - loss: 1.1978 - accuracy: 0.5990 - true_negatives: 1264.0000 - true_positives: 1252.0000 - false_negatives: 848.0000 - false_positives: 836.0000 - val_loss: 1.1622 - val_accuracy: 0.5667 - val_true_negatives: 141.0000 - val_true_positives: 199.0000 - val_false_negatives: 101.0000 - val_false_positives: 159.0000\n",
      "Epoch 12/25\n",
      "420/420 [==============================] - 54s 128ms/step - loss: 1.1186 - accuracy: 0.6114 - true_negatives: 1302.0000 - true_positives: 1266.0000 - false_negatives: 834.0000 - false_positives: 798.0000 - val_loss: 1.0957 - val_accuracy: 0.5933 - val_true_negatives: 150.0000 - val_true_positives: 206.0000 - val_false_negatives: 94.0000 - val_false_positives: 150.0000\n",
      "Epoch 13/25\n",
      "420/420 [==============================] - 53s 127ms/step - loss: 1.0508 - accuracy: 0.6229 - true_negatives: 1355.0000 - true_positives: 1261.0000 - false_negatives: 839.0000 - false_positives: 745.0000 - val_loss: 1.0383 - val_accuracy: 0.6150 - val_true_negatives: 187.0000 - val_true_positives: 182.0000 - val_false_negatives: 118.0000 - val_false_positives: 113.0000\n",
      "Epoch 14/25\n",
      "420/420 [==============================] - 57s 137ms/step - loss: 0.9919 - accuracy: 0.6283 - true_negatives: 1336.0000 - true_positives: 1303.0000 - false_negatives: 797.0000 - false_positives: 764.0000 - val_loss: 1.0008 - val_accuracy: 0.6033 - val_true_negatives: 213.0000 - val_true_positives: 149.0000 - val_false_negatives: 151.0000 - val_false_positives: 87.0000\n",
      "Epoch 15/25\n",
      "420/420 [==============================] - 53s 125ms/step - loss: 0.9350 - accuracy: 0.6621 - true_negatives: 1430.0000 - true_positives: 1351.0000 - false_negatives: 749.0000 - false_positives: 670.0000 - val_loss: 0.9586 - val_accuracy: 0.6233 - val_true_negatives: 185.0000 - val_true_positives: 189.0000 - val_false_negatives: 111.0000 - val_false_positives: 115.0000\n",
      "Epoch 16/25\n",
      "420/420 [==============================] - 54s 129ms/step - loss: 0.8903 - accuracy: 0.6843 - true_negatives: 1446.0000 - true_positives: 1428.0000 - false_negatives: 672.0000 - false_positives: 654.0000 - val_loss: 0.9284 - val_accuracy: 0.6233 - val_true_negatives: 195.0000 - val_true_positives: 179.0000 - val_false_negatives: 121.0000 - val_false_positives: 105.0000\n",
      "Epoch 17/25\n",
      "420/420 [==============================] - 54s 129ms/step - loss: 0.8397 - accuracy: 0.7188 - true_negatives: 1553.0000 - true_positives: 1466.0000 - false_negatives: 634.0000 - false_positives: 547.0000 - val_loss: 0.9168 - val_accuracy: 0.6400 - val_true_negatives: 203.0000 - val_true_positives: 181.0000 - val_false_negatives: 119.0000 - val_false_positives: 97.0000\n",
      "Epoch 18/25\n",
      "420/420 [==============================] - 53s 126ms/step - loss: 0.7933 - accuracy: 0.7445 - true_negatives: 1594.0000 - true_positives: 1533.0000 - false_negatives: 567.0000 - false_positives: 506.0000 - val_loss: 0.9270 - val_accuracy: 0.6367 - val_true_negatives: 192.0000 - val_true_positives: 190.0000 - val_false_negatives: 110.0000 - val_false_positives: 108.0000\n",
      "Epoch 19/25\n",
      "420/420 [==============================] - 54s 129ms/step - loss: 0.7584 - accuracy: 0.7838 - true_negatives: 1678.0000 - true_positives: 1614.0000 - false_negatives: 486.0000 - false_positives: 422.0000 - val_loss: 0.9284 - val_accuracy: 0.6433 - val_true_negatives: 193.0000 - val_true_positives: 193.0000 - val_false_negatives: 107.0000 - val_false_positives: 107.0000\n",
      "Epoch 20/25\n",
      "420/420 [==============================] - 54s 127ms/step - loss: 0.7212 - accuracy: 0.8136 - true_negatives: 1700.0000 - true_positives: 1717.0000 - false_negatives: 383.0000 - false_positives: 400.0000 - val_loss: 0.9831 - val_accuracy: 0.6517 - val_true_negatives: 195.0000 - val_true_positives: 196.0000 - val_false_negatives: 104.0000 - val_false_positives: 105.0000\n",
      "Epoch 21/25\n",
      "420/420 [==============================] - 54s 128ms/step - loss: 0.6874 - accuracy: 0.8376 - true_negatives: 1752.0000 - true_positives: 1766.0000 - false_negatives: 334.0000 - false_positives: 348.0000 - val_loss: 1.0403 - val_accuracy: 0.6517 - val_true_negatives: 191.0000 - val_true_positives: 200.0000 - val_false_negatives: 100.0000 - val_false_positives: 109.0000\n",
      "Epoch 22/25\n",
      "420/420 [==============================] - 58s 137ms/step - loss: 0.6698 - accuracy: 0.8481 - true_negatives: 1788.0000 - true_positives: 1774.0000 - false_negatives: 326.0000 - false_positives: 312.0000 - val_loss: 1.0935 - val_accuracy: 0.6267 - val_true_negatives: 167.0000 - val_true_positives: 209.0000 - val_false_negatives: 91.0000 - val_false_positives: 133.0000\n",
      "Epoch 23/25\n",
      "420/420 [==============================] - 55s 131ms/step - loss: 0.6500 - accuracy: 0.8683 - true_negatives: 1828.0000 - true_positives: 1819.0000 - false_negatives: 281.0000 - false_positives: 272.0000 - val_loss: 1.1430 - val_accuracy: 0.6600 - val_true_negatives: 204.0000 - val_true_positives: 192.0000 - val_false_negatives: 108.0000 - val_false_positives: 96.0000\n",
      "Epoch 24/25\n",
      "420/420 [==============================] - 54s 128ms/step - loss: 0.6393 - accuracy: 0.8843 - true_negatives: 1862.0000 - true_positives: 1852.0000 - false_negatives: 248.0000 - false_positives: 238.0000 - val_loss: 1.2024 - val_accuracy: 0.6417 - val_true_negatives: 188.0000 - val_true_positives: 197.0000 - val_false_negatives: 103.0000 - val_false_positives: 112.0000\n",
      "Epoch 25/25\n",
      "420/420 [==============================] - 53s 126ms/step - loss: 0.6171 - accuracy: 0.9024 - true_negatives: 1899.0000 - true_positives: 1891.0000 - false_negatives: 209.0000 - false_positives: 201.0000 - val_loss: 1.3271 - val_accuracy: 0.6733 - val_true_negatives: 227.0000 - val_true_positives: 177.0000 - val_false_negatives: 123.0000 - val_false_positives: 73.0000\n"
     ]
    },
    {
     "data": {
      "image/png": "[encoded data removed]",
      "text/plain": [
       "<Figure size 432x288 with 1 Axes>"
      ]
     },
     "metadata": {
      "needs_background": "light"
     },
     "output_type": "display_data"
    },
    {
     "data": {
      "image/png": "[encoded data removed]",
      "text/plain": [
       "<Figure size 432x288 with 1 Axes>"
      ]
     },
     "metadata": {
      "needs_background": "light"
     },
     "output_type": "display_data"
    }
   ],
   "source": [
    "history=model.fit(train_generator,epochs=25,validation_data=val_generator,shuffle=True, callbacks=[callbacks.EarlyStopping(monitor='val_acc', patience=5,restore_best_weights=True)])\n",
    "# using early stopping method to train the model to achieve maximum accuracy\n",
    "plt.plot(history.history['loss'])\n",
    "plt.plot(history.history['val_loss'])\n",
    "plt.title('loss')\n",
    "plt.ylabel('loss')\n",
    "plt.xlabel('epoch')\n",
    "plt.legend(['train', 'val'], loc='upper left')\n",
    "plt.show()\n",
    "plt.plot(history.history['accuracy'])\n",
    "plt.plot(history.history['val_accuracy'])\n",
    "plt.title('accuracy')\n",
    "plt.ylabel('accuracy')\n",
    "plt.xlabel('epoch')\n",
    "plt.legend(['train', 'val'], loc='upper left')\n",
    "plt.show()"
   ]
  },
  {
   "cell_type": "markdown",
   "id": "f35867db",
   "metadata": {
    "papermill": {
     "duration": 0.656062,
     "end_time": "2022-11-20T19:10:47.870216",
     "exception": false,
     "start_time": "2022-11-20T19:10:47.214154",
     "status": "completed"
    },
    "tags": []
   },
   "source": [
    "**Testing**"
   ]
  },
  {
   "cell_type": "code",
   "execution_count": 5,
   "id": "73a82f2d",
   "metadata": {
    "execution": {
     "iopub.execute_input": "2022-11-20T19:10:49.132287Z",
     "iopub.status.busy": "2022-11-20T19:10:49.131716Z",
     "iopub.status.idle": "2022-11-20T19:11:10.379995Z",
     "shell.execute_reply": "2022-11-20T19:11:10.379079Z"
    },
    "papermill": {
     "duration": 21.891477,
     "end_time": "2022-11-20T19:11:10.382079",
     "exception": false,
     "start_time": "2022-11-20T19:10:48.490602",
     "status": "completed"
    },
    "tags": []
   },
   "outputs": [
    {
     "name": "stdout",
     "output_type": "stream",
     "text": [
      "120/120 [==============================] - 21s 175ms/step - loss: 1.2685 - accuracy: 0.6808 - true_negatives: 453.0000 - true_positives: 364.0000 - false_negatives: 236.0000 - false_positives: 147.0000\n",
      "Accuracy:  0.6808333396911621\n",
      "True negative:  453.0\n",
      "True positive:  364.0\n",
      "False negative:  236.0\n",
      "False postive:  147.0\n"
     ]
    }
   ],
   "source": [
    "loss,accuracy,tn,tp,fn,fp=model.evaluate(test_generator)\n",
    "print(\"Accuracy: \",accuracy)\n",
    "print(\"True negative: \",tn)\n",
    "print(\"True positive: \",tp)\n",
    "print(\"False negative: \",fn)\n",
    "print(\"False postive: \",fp)"
   ]
  }
 ],
 "metadata": {
  "kernelspec": {
   "display_name": "Python 3",
   "language": "python",
   "name": "python3"
  },
  "language_info": {
   "codemirror_mode": {
    "name": "ipython",
    "version": 3
   },
   "file_extension": ".py",
   "mimetype": "text/x-python",
   "name": "python",
   "nbconvert_exporter": "python",
   "pygments_lexer": "ipython3",
   "version": "3.7.12"
  },
  "papermill": {
   "default_parameters": {},
   "duration": 1640.12831,
   "end_time": "2022-11-20T19:11:14.076109",
   "environment_variables": {},
   "exception": null,
   "input_path": "__notebook__.ipynb",
   "output_path": "__notebook__.ipynb",
   "parameters": {},
   "start_time": "2022-11-20T18:43:53.947799",
   "version": "2.3.4"
  }
 },
 "nbformat": 4,
 "nbformat_minor": 5
}
