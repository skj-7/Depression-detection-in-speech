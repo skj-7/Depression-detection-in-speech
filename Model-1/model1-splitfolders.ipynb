{
 "cells": [
  {
   "cell_type": "markdown",
   "id": "8ff5db2e",
   "metadata": {
    "_cell_guid": "b1076dfc-b9ad-4769-8c92-a6c4dae69d19",
    "_uuid": "8f2839f25d086af736a60e9eeb907d3b93b6e0e5",
    "papermill": {
     "duration": 0.002219,
     "end_time": "2022-11-19T14:11:36.936249",
     "exception": false,
     "start_time": "2022-11-19T14:11:36.934030",
     "status": "completed"
    },
    "tags": []
   },
   "source": [
    "**Split folders into test-val**"
   ]
  },
  {
   "cell_type": "code",
   "execution_count": 1,
   "id": "9ccf78be",
   "metadata": {
    "execution": {
     "iopub.execute_input": "2022-11-19T14:11:36.940680Z",
     "iopub.status.busy": "2022-11-19T14:11:36.940250Z",
     "iopub.status.idle": "2022-11-19T14:11:48.317844Z",
     "shell.execute_reply": "2022-11-19T14:11:48.316419Z"
    },
    "papermill": {
     "duration": 11.383377,
     "end_time": "2022-11-19T14:11:48.321163",
     "exception": false,
     "start_time": "2022-11-19T14:11:36.937786",
     "status": "completed"
    },
    "tags": []
   },
   "outputs": [
    {
     "name": "stdout",
     "output_type": "stream",
     "text": [
      "Collecting split-folders\r\n",
      "  Downloading split_folders-0.5.1-py3-none-any.whl (8.4 kB)\r\n",
      "Installing collected packages: split-folders\r\n",
      "Successfully installed split-folders-0.5.1\r\n",
      "\u001b[33mWARNING: Running pip as the 'root' user can result in broken permissions and conflicting behaviour with the system package manager. It is recommended to use a virtual environment instead: https://pip.pypa.io/warnings/venv\u001b[0m\u001b[33m\r\n",
      "\u001b[0mNote: you may need to restart the kernel to use updated packages.\n"
     ]
    }
   ],
   "source": [
    "pip install split-folders"
   ]
  },
  {
   "cell_type": "code",
   "execution_count": 2,
   "id": "92045815",
   "metadata": {
    "execution": {
     "iopub.execute_input": "2022-11-19T14:11:48.326301Z",
     "iopub.status.busy": "2022-11-19T14:11:48.325985Z",
     "iopub.status.idle": "2022-11-19T14:12:13.685502Z",
     "shell.execute_reply": "2022-11-19T14:12:13.684010Z"
    },
    "papermill": {
     "duration": 25.364468,
     "end_time": "2022-11-19T14:12:13.687639",
     "exception": false,
     "start_time": "2022-11-19T14:11:48.323171",
     "status": "completed"
    },
    "tags": []
   },
   "outputs": [
    {
     "name": "stderr",
     "output_type": "stream",
     "text": [
      "Copying files: 6000 files [00:25, 236.84 files/s]\n"
     ]
    }
   ],
   "source": [
    "import splitfolders\n",
    "import os\n",
    "\n",
    "os.mkdir('./final_image_data/')\n",
    "\n",
    "splitfolders.ratio('../input/model1-sampling/image_data/', output='./final_image_data/', seed=1337, ratio=(.7,.1,.2))"
   ]
  }
 ],
 "metadata": {
  "kernelspec": {
   "display_name": "Python 3",
   "language": "python",
   "name": "python3"
  },
  "language_info": {
   "codemirror_mode": {
    "name": "ipython",
    "version": 3
   },
   "file_extension": ".py",
   "mimetype": "text/x-python",
   "name": "python",
   "nbconvert_exporter": "python",
   "pygments_lexer": "ipython3",
   "version": "3.7.12"
  },
  "papermill": {
   "default_parameters": {},
   "duration": 44.747931,
   "end_time": "2022-11-19T14:12:14.220719",
   "environment_variables": {},
   "exception": null,
   "input_path": "__notebook__.ipynb",
   "output_path": "__notebook__.ipynb",
   "parameters": {},
   "start_time": "2022-11-19T14:11:29.472788",
   "version": "2.3.4"
  }
 },
 "nbformat": 4,
 "nbformat_minor": 5
}
